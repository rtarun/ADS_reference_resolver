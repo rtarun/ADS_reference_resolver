{
 "cells": [
  {
   "cell_type": "markdown",
   "metadata": {},
   "source": [
    "Author: Tarun Ruchandani (tarun.ruchandani@columbia.edu)\n",
    "Date: 2016-11-26 14:26:09 -0700 (Tue, 26 Nov 2016)\n",
    "Revision: 1\n",
    "\n",
    "Reference Resolver for NASA ADS v1.0 \n",
    "\n",
    "To Do:\n",
    "x Resolve References for \"modern\" Astronomical, Physics, and annual review styles\n",
    "x Resolve for books, conferences, small publications, and PhD thesis\n",
    "x Port the program to Flask\n",
    "x Use virtualenv\n",
    "\n",
    "Task\n",
    "You need to create a web service which receives a single string (bibliographic reference) and returns a json response\n",
    "containing the original string and the ADS identifier associated with the reference.\n",
    "An example input parameter to your web service could be:\n",
    "Abt, H. 1990, ApJ, 357, 1\n",
    "Based on this input, your service would compute and return the expected identifier along with the original input string:\n",
    "{\n",
    "\"refstring\": \"Abt, H. 1990, ApJ, 357, 1\",\n",
    "\"bibcode\": \"1990ApJ...357....1A\"\n",
    "}\n",
    "You can, if you wish, return additional fields in the JSON response."
   ]
  },
  {
   "cell_type": "code",
   "execution_count": 6,
   "metadata": {
    "collapsed": false
   },
   "outputs": [
    {
     "ename": "ImportError",
     "evalue": "No module named 'ConfigParser'",
     "output_type": "error",
     "traceback": [
      "\u001b[0;31m---------------------------------------------------------------------------\u001b[0m",
      "\u001b[0;31mImportError\u001b[0m                               Traceback (most recent call last)",
      "\u001b[0;32m<ipython-input-6-1a1fbf2b8d67>\u001b[0m in \u001b[0;36m<module>\u001b[0;34m()\u001b[0m\n\u001b[1;32m      6\u001b[0m \u001b[0;32mimport\u001b[0m \u001b[0mflask\u001b[0m\u001b[0;34m\u001b[0m\u001b[0m\n\u001b[1;32m      7\u001b[0m \u001b[0;34m\u001b[0m\u001b[0m\n\u001b[0;32m----> 8\u001b[0;31m \u001b[0;32mimport\u001b[0m \u001b[0mConfigParser\u001b[0m\u001b[0;34m\u001b[0m\u001b[0m\n\u001b[0m",
      "\u001b[0;31mImportError\u001b[0m: No module named 'ConfigParser'"
     ]
    }
   ],
   "source": [
    "import numpy as np\n",
    "import ads\n",
    "import pandas as pd\n",
    "from numpy  import array\n",
    "import json\n",
    "import flask\n",
    "import ConfigParser"
   ]
  },
  {
   "cell_type": "code",
   "execution_count": 1,
   "metadata": {
    "collapsed": false
   },
   "outputs": [],
   "source": [
    "def resolve_references(refdata):\n",
    "    # Instantiate the Resolver class\n",
    "    rsvr = Resolver()\n",
    "    # First clean the reference data we have been given\n",
    "    if isinstance(refdata, str):\n",
    "        try:\n",
    "            refdata = uh.u2asc(refdata)\n",
    "        except:\n",
    "            raise UnicodeDecodingError\n",
    "    elif isinstance(refdata, list):\n",
    "        tmp = []\n",
    "        for ref in refdata:\n",
    "            try:\n",
    "                tmp.append(uh.u2asc(ref))\n",
    "            except:\n",
    "                sys.stderr.write('Unicode error while converting: %s\\n'%ref)\n",
    "        refdata = tmp\n",
    "    # Now hand the referene data over to the resolver\n",
    "    rsvr.resolve(refdata)\n",
    "    # Return the results\n",
    "    return rsvr.results"
   ]
  },
  {
   "cell_type": "code",
   "execution_count": 5,
   "metadata": {
    "collapsed": true
   },
   "outputs": [],
   "source": [
    "class Resolver:\n",
    "    def __init__(self):\n",
    "        self.resolverURL = config.RESOLVER_URL\n",
    "        self.maxURLlength= config.URL_MAX\n",
    "        self.LevelMapping= config.LEVEL_MAPPING\n",
    "        user = \"%s@%s\" % (config.USER_NAME or 'anonymous', socket.gethostname())\n",
    "        self.headers = {\n",
    "                         'User-Agent': 'ADS Reference Resolver Python Client version %s; %s'%(config.RESCLIENT_VERSION,user),\n",
    "                         'From': '%s' % user,\n",
    "                         'Content-Type':'application/x-www-form-urlencoded'\n",
    "                       }\n",
    "        self.params = {}\n",
    "\n",
    "    def resolve(self,refdata):\n",
    "        self.results = []\n",
    "        if not refdata:\n",
    "            \"\"\"\n",
    "            Really? You called us without given anything to work on?\n",
    "            \"\"\"\n",
    "            raise NoReferenceDataSupplied\n",
    "        if isinstance(refdata,str):\n",
    "            \"\"\"\n",
    "            This is either one string, or a newline-separated list\n",
    "            \"\"\"\n",
    "            reflist = refdata.split('\\n')\n",
    "        elif isinstance(refdata,list):\n",
    "            \"\"\"\n",
    "            In case of a list of reference strings, there's nothing to be done\n",
    "            \"\"\"\n",
    "            reflist = refdata\n",
    "        else:\n",
    "            \"\"\"\n",
    "            We don't accept any other formats\n",
    "            \"\"\"\n",
    "            raise InvalidReferenceDataSupplied\n",
    "        # Fire off the requests to the reference resolver service\n",
    "        for ref in reflist:\n",
    "            self.params['resolvethose'] = ref\n",
    "            self.headers['Content-Length'] = len(self.params['resolvethose'])\n",
    "            try:\n",
    "                r = requests.post(self.resolverURL, data=self.params, headers=self.headers)\n",
    "            except:\n",
    "                raise ResolveRequestFailed\n",
    "        # Parse the response and return the results as a list of dictionaries\n",
    "            self.results += self.__parse_results(r.text.strip())\n",
    "\n",
    "    def __parse_results(self,results):\n",
    "        \"\"\"\n",
    "        The resolve server responds with some basic HTML formatting, where the actual\n",
    "        results are listed as an HTML list. The regular expression RE_RESULT captures\n",
    "        each entry\n",
    "        \"\"\"\n",
    "        reslist = []\n",
    "        cursor = 0\n",
    "        match  = RE_RESULTS.search(results,cursor)\n",
    "        while match:\n",
    "            doc = {}\n",
    "            doc['bibcode'] = match.group('bibcode')\n",
    "            doc['confidence'] = self.__get_confidence_level(match.group('confidence'))\n",
    "            doc['refstring'] = match.group('refstring')\n",
    "            reslist.append(doc)\n",
    "            cursor = match.end()\n",
    "            match  = RE_RESULTS.search(results,cursor)\n",
    "        return reslist\n",
    "\n",
    "    def __get_confidence_level(self,level):\n",
    "        \"\"\"\n",
    "        In essence the resolver confidence levels in the range [0,1,2,3,4,5]. In the case\n",
    "        of '0' the resolver really couldn't make anything from the reference string. Sometimes\n",
    "        the resolver comes up with a bibcode, either because the journal string found matches\n",
    "        an known journal close enough, or because the record simply isn't in the ADS. In those\n",
    "        cases a '5' is assigned. Be very careful with these bibcodes! All other cases are \n",
    "        considered as success.\n",
    "        \"\"\"\n",
    "        return self.LevelMapping[level]\n",
    "            \n",
    "            \n",
    "        "
   ]
  },
  {
   "cell_type": "code",
   "execution_count": 6,
   "metadata": {
    "collapsed": false
   },
   "outputs": [
    {
     "ename": "NameError",
     "evalue": "name 'config' is not defined",
     "output_type": "error",
     "traceback": [
      "\u001b[0;31m---------------------------------------------------------------------------\u001b[0m",
      "\u001b[0;31mNameError\u001b[0m                                 Traceback (most recent call last)",
      "\u001b[0;32m<ipython-input-6-0821b2150069>\u001b[0m in \u001b[0;36m<module>\u001b[0;34m()\u001b[0m\n\u001b[0;32m----> 1\u001b[0;31m \u001b[0mresolve_references\u001b[0m\u001b[0;34m(\u001b[0m\u001b[0;34m\"Abt, H. 1990, ApJ, 357, 1\"\u001b[0m\u001b[0;34m)\u001b[0m\u001b[0;34m\u001b[0m\u001b[0m\n\u001b[0m",
      "\u001b[0;32m<ipython-input-1-712397ff6ddd>\u001b[0m in \u001b[0;36mresolve_references\u001b[0;34m(refdata)\u001b[0m\n\u001b[1;32m      1\u001b[0m \u001b[0;32mdef\u001b[0m \u001b[0mresolve_references\u001b[0m\u001b[0;34m(\u001b[0m\u001b[0mrefdata\u001b[0m\u001b[0;34m)\u001b[0m\u001b[0;34m:\u001b[0m\u001b[0;34m\u001b[0m\u001b[0m\n\u001b[1;32m      2\u001b[0m     \u001b[0;31m# Instantiate the Resolver class\u001b[0m\u001b[0;34m\u001b[0m\u001b[0;34m\u001b[0m\u001b[0m\n\u001b[0;32m----> 3\u001b[0;31m     \u001b[0mrsvr\u001b[0m \u001b[0;34m=\u001b[0m \u001b[0mResolver\u001b[0m\u001b[0;34m(\u001b[0m\u001b[0;34m)\u001b[0m\u001b[0;34m\u001b[0m\u001b[0m\n\u001b[0m\u001b[1;32m      4\u001b[0m     \u001b[0;31m# First clean the reference data we have been given\u001b[0m\u001b[0;34m\u001b[0m\u001b[0;34m\u001b[0m\u001b[0m\n\u001b[1;32m      5\u001b[0m     \u001b[0;32mif\u001b[0m \u001b[0misinstance\u001b[0m\u001b[0;34m(\u001b[0m\u001b[0mrefdata\u001b[0m\u001b[0;34m,\u001b[0m \u001b[0mstr\u001b[0m\u001b[0;34m)\u001b[0m\u001b[0;34m:\u001b[0m\u001b[0;34m\u001b[0m\u001b[0m\n",
      "\u001b[0;32m<ipython-input-5-63e4ac6e99f7>\u001b[0m in \u001b[0;36m__init__\u001b[0;34m(self)\u001b[0m\n\u001b[1;32m      1\u001b[0m \u001b[0;32mclass\u001b[0m \u001b[0mResolver\u001b[0m\u001b[0;34m:\u001b[0m\u001b[0;34m\u001b[0m\u001b[0m\n\u001b[1;32m      2\u001b[0m     \u001b[0;32mdef\u001b[0m \u001b[0m__init__\u001b[0m\u001b[0;34m(\u001b[0m\u001b[0mself\u001b[0m\u001b[0;34m)\u001b[0m\u001b[0;34m:\u001b[0m\u001b[0;34m\u001b[0m\u001b[0m\n\u001b[0;32m----> 3\u001b[0;31m         \u001b[0mself\u001b[0m\u001b[0;34m.\u001b[0m\u001b[0mresolverURL\u001b[0m \u001b[0;34m=\u001b[0m \u001b[0mconfig\u001b[0m\u001b[0;34m.\u001b[0m\u001b[0mRESOLVER_URL\u001b[0m\u001b[0;34m\u001b[0m\u001b[0m\n\u001b[0m\u001b[1;32m      4\u001b[0m         \u001b[0mself\u001b[0m\u001b[0;34m.\u001b[0m\u001b[0mmaxURLlength\u001b[0m\u001b[0;34m=\u001b[0m \u001b[0mconfig\u001b[0m\u001b[0;34m.\u001b[0m\u001b[0mURL_MAX\u001b[0m\u001b[0;34m\u001b[0m\u001b[0m\n\u001b[1;32m      5\u001b[0m         \u001b[0mself\u001b[0m\u001b[0;34m.\u001b[0m\u001b[0mLevelMapping\u001b[0m\u001b[0;34m=\u001b[0m \u001b[0mconfig\u001b[0m\u001b[0;34m.\u001b[0m\u001b[0mLEVEL_MAPPING\u001b[0m\u001b[0;34m\u001b[0m\u001b[0m\n",
      "\u001b[0;31mNameError\u001b[0m: name 'config' is not defined"
     ]
    }
   ],
   "source": [
    "resolve_references(\"Abt, H. 1990, ApJ, 357, 1\")"
   ]
  },
  {
   "cell_type": "code",
   "execution_count": 17,
   "metadata": {
    "collapsed": false
   },
   "outputs": [
    {
     "ename": "SyntaxError",
     "evalue": "invalid syntax (<ipython-input-17-da96bce929b1>, line 8)",
     "output_type": "error",
     "traceback": [
      "\u001b[0;36m  File \u001b[0;32m\"<ipython-input-17-da96bce929b1>\"\u001b[0;36m, line \u001b[0;32m8\u001b[0m\n\u001b[0;31m    export FLASK_APP=hello.py\u001b[0m\n\u001b[0m                   ^\u001b[0m\n\u001b[0;31mSyntaxError\u001b[0m\u001b[0;31m:\u001b[0m invalid syntax\n"
     ]
    }
   ],
   "source": [
    "from flask import Flask\n",
    "app = Flask(__name__)\n",
    "\n",
    "#@app.route('/')\n",
    "def hello_world():\n",
    "    return 'Hello, World!'\n",
    "\n"
   ]
  }
 ],
 "metadata": {
  "kernelspec": {
   "display_name": "Python 3",
   "language": "python",
   "name": "python3"
  },
  "language_info": {
   "codemirror_mode": {
    "name": "ipython",
    "version": 3
   },
   "file_extension": ".py",
   "mimetype": "text/x-python",
   "name": "python",
   "nbconvert_exporter": "python",
   "pygments_lexer": "ipython3",
   "version": "3.5.1"
  }
 },
 "nbformat": 4,
 "nbformat_minor": 0
}
